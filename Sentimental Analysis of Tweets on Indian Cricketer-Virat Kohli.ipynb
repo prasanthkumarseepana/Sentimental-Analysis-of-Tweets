{
 "cells": [
  {
   "cell_type": "markdown",
   "id": "be4afc77",
   "metadata": {},
   "source": [
    "## 1. Introduction\n",
    "\n",
    "This notebook aims to capture the sentiment of the Virat Kohli hashtag on Twitter (from a small sample of Tweets).\n",
    "\n",
    "We will use three things:\n",
    "\n",
    "- Search phrase: **Kohli resigns**\n",
    "- Scraped tweets\n",
    "- Vader package in Python to estimate analysis\n",
    "\n",
    "This is a basic approach, not utilizing the latest deep learning tehniques to estimate sentiment in text. Let's get started..."
   ]
  },
  {
   "cell_type": "markdown",
   "id": "628508a5",
   "metadata": {},
   "source": [
    "## 2. Coding\n",
    "\n",
    "### 2.1. Import libraries"
   ]
  },
  {
   "cell_type": "code",
   "execution_count": 11,
   "id": "467f97c8",
   "metadata": {},
   "outputs": [],
   "source": [
    "# Run the pip install command below if you don't already have the library\n",
    "#!pip install git+https://github.com/JustAnotherArchivist/snscrape.git\n",
    "\n",
    "# Imports\n",
    "import os\n",
    "import pandas as pd"
   ]
  },
  {
   "cell_type": "markdown",
   "id": "94c8997a",
   "metadata": {},
   "source": [
    "### 2.2. Scrape 10,000 tweets using search phrase and snsscrape package\n"
   ]
  },
  {
   "cell_type": "code",
   "execution_count": 2,
   "id": "dc89d6ec",
   "metadata": {},
   "outputs": [
    {
     "data": {
      "text/plain": [
       "1"
      ]
     },
     "execution_count": 2,
     "metadata": {},
     "output_type": "execute_result"
    }
   ],
   "source": [
    "# Setting variables to be used in format string command below\n",
    "tweet_count = 10000\n",
    "text_query = \"Kohli resigns\"\n",
    "since_date = \"2022-01-14\"\n",
    "until_date = \"2020-01-16\"\n",
    "\n",
    "# Using OS library to call CLI commands in Python\n",
    "os.system('snscrape --jsonl --max-results {} --since {} twitter-search \"{} until:{}\"> text-query-tweets.json'.format(tweet_count, since_date, text_query, until_date))"
   ]
  },
  {
   "cell_type": "code",
   "execution_count": 12,
   "id": "e3902a34",
   "metadata": {},
   "outputs": [
    {
     "name": "stdout",
     "output_type": "stream",
     "text": [
      "@virendersehwag @imVkohli India's most successful captain is Virat Kohli, we are proud to have taken Team India to the world famous peak of Test cricket.\n",
      "--------------------------------------------------\n",
      "@DrAMSinghvi @imVkohli His wokeism let him down, we all know how hypocritical he becomes after some success. His hypocrisy is exposed that's why he is hated by large.\n",
      "--------------------------------------------------\n",
      "@WasimJaffer14 @imVkohli With the same batting avg. for last 2 years, @ajinkyarahane88 &amp; @cheteshwar1 aren’t in the squad but @imVkohli is lucky to get retained. \n",
      "\n",
      "This was inevitable with his consecutive series loss vs. SA is bad with this kinda bowling attack which covered his batting form for 2+ years\n",
      "--------------------------------------------------\n",
      "@imVkohli Happy retirement bhai🙏🏻hoping to see a video Atleast this year on how to celebrate animal cruelty free Eid🥳\n",
      "--------------------------------------------------\n",
      "@SamCurranFC07 @SakshiNegi_7 @SGanguly99 @BCCI @imVkohli Saale, Kalkatta ki rosgulla, Bonguly, GANDUNGLI, gand me ungli, Dada pada, Dada choda. Tu toh Abhi Indian cricket ko chod diya. Shame on U, U bloody rosgulla, gand-ungli. During playing times tu bhagta tha @shoaib100mph se. Abhi Bhaag Indian public se, saale gaand-me-ungli.\n",
      "--------------------------------------------------\n",
      "@CricRicky @BoriaMajumdar @imVkohli My hope is, now that he's no more the captain, I want someone to ask Rohit about the 'rift' he has with Virat. I want the stupid indian media to get an ass- whopping it got away from all these years. Kohli had been very formal with them while answering this. Rohit shouldn't.\n",
      "--------------------------------------------------\n",
      "@SGanguly99 @BCCI @imVkohli Resign from BCCI\n",
      "--------------------------------------------------\n",
      "@IAmGMishra @anuragsinha1992 @SGanguly99 @BCCI @imVkohli Saale, Kalkatta ki rosgulla, Bonguly, GANDUNGLI, gand me ungli, Dada pada, Dada choda. Tu toh Abhi Indian cricket ko chod diya. Shame on U, U bloody rosgulla, gand-ungli. During playing times tu bhagta tha @shoaib100mph se. Abhi Bhaag Indian public se, saale gaand-me-ungli.\n",
      "--------------------------------------------------\n",
      "New Indian Cricket Team Captain: Who Will Replace Virat Kohli as India’s New Test Captain? exbulletin.com/sports/1412430/\n",
      "--------------------------------------------------\n",
      "@anuragsinha1992 @SGanguly99 @BCCI @imVkohli Saale, Kalkatta ki rosgulla, Bonguly, GANDUNGLI, gand me ungli, Dada pada, Dada choda. Tu toh Abhi Indian cricket ko chod diya. Shame on U, U bloody rosgulla, gand-ungli. During playing times tu bhagta tha @shoaib100mph se. Abhi Bhaag Indian public se, saale gaand-me-ungli.\n",
      "--------------------------------------------------\n"
     ]
    }
   ],
   "source": [
    "# Read the json generated from the CLI command above and create a pandas dataframe\n",
    "tweets_df = pd.read_json('text-query-tweets.json', lines=True)\n",
    "\n",
    "# Displays first 50 entries from the renderedContent column, which are the tweets basically\n",
    "for i in range(0, 10):\n",
    "    print(tweets_df['renderedContent'][i])\n",
    "    print('--'*25)"
   ]
  },
  {
   "cell_type": "markdown",
   "id": "f3e0f253",
   "metadata": {},
   "source": [
    "## 2.3. Clean the data\n",
    "\n",
    "This step involves taking the renderedContent column and stripping off all usernames so that only the tweet content is visible. "
   ]
  },
  {
   "cell_type": "markdown",
   "id": "2c7aa777",
   "metadata": {},
   "source": [
    "### 2.3.1. Define a function that cleans @ words from text"
   ]
  },
  {
   "cell_type": "code",
   "execution_count": 13,
   "id": "636fe83e",
   "metadata": {},
   "outputs": [],
   "source": [
    "def tweet_cleaner(tweet):\n",
    "    split_list = tweet.split(\" \")\n",
    "    cleaned_list = [w for w in split_list if w.find(\"@\") < 0]\n",
    "    cleaned_tweet = \" \".join([i for i in cleaned_list])\n",
    "    \n",
    "    return cleaned_tweet\n",
    "\n",
    "#Example usage of this function:\n",
    "#tweet_cleaner(\"\"\"@CricRicky @BoriaMajumdar @imVkohli My hope is, now that he's no more the captain, I want someone to ask Rohit about the 'rift' he has with Virat. I want the stupid indian media to get an ass- whopping it got away from all these years. Kohli had been very formal with them while answering this. Rohit shouldn't.\"\"\")"
   ]
  },
  {
   "cell_type": "markdown",
   "id": "20aa19d4",
   "metadata": {},
   "source": [
    "### 2.3.2. Use this function and .apply() on  'renderedContent' column to create a new cleaned column"
   ]
  },
  {
   "cell_type": "code",
   "execution_count": 14,
   "id": "4ee4212e",
   "metadata": {},
   "outputs": [],
   "source": [
    "tweets_df['cleaned_tweets'] = tweets_df['renderedContent'].apply(lambda x: tweet_cleaner(x))"
   ]
  },
  {
   "cell_type": "code",
   "execution_count": 15,
   "id": "c38590a5",
   "metadata": {},
   "outputs": [
    {
     "name": "stdout",
     "output_type": "stream",
     "text": [
      "India's most successful captain is Virat Kohli, we are proud to have taken Team India to the world famous peak of Test cricket.\n",
      "--------------------\n",
      "His wokeism let him down, we all know how hypocritical he becomes after some success. His hypocrisy is exposed that's why he is hated by large.\n",
      "--------------------\n",
      "With the same batting avg. for last 2 years, &amp; aren’t in the squad but is lucky to get retained. \n",
      "\n",
      "This was inevitable with his consecutive series loss vs. SA is bad with this kinda bowling attack which covered his batting form for 2+ years\n",
      "--------------------\n",
      "Happy retirement bhai🙏🏻hoping to see a video Atleast this year on how to celebrate animal cruelty free Eid🥳\n",
      "--------------------\n",
      "Saale, Kalkatta ki rosgulla, Bonguly, GANDUNGLI, gand me ungli, Dada pada, Dada choda. Tu toh Abhi Indian cricket ko chod diya. Shame on U, U bloody rosgulla, gand-ungli. During playing times tu bhagta tha se. Abhi Bhaag Indian public se, saale gaand-me-ungli.\n",
      "--------------------\n",
      "My hope is, now that he's no more the captain, I want someone to ask Rohit about the 'rift' he has with Virat. I want the stupid indian media to get an ass- whopping it got away from all these years. Kohli had been very formal with them while answering this. Rohit shouldn't.\n",
      "--------------------\n",
      "Resign from BCCI\n",
      "--------------------\n",
      "Saale, Kalkatta ki rosgulla, Bonguly, GANDUNGLI, gand me ungli, Dada pada, Dada choda. Tu toh Abhi Indian cricket ko chod diya. Shame on U, U bloody rosgulla, gand-ungli. During playing times tu bhagta tha se. Abhi Bhaag Indian public se, saale gaand-me-ungli.\n",
      "--------------------\n",
      "New Indian Cricket Team Captain: Who Will Replace Virat Kohli as India’s New Test Captain? exbulletin.com/sports/1412430/\n",
      "--------------------\n",
      "Saale, Kalkatta ki rosgulla, Bonguly, GANDUNGLI, gand me ungli, Dada pada, Dada choda. Tu toh Abhi Indian cricket ko chod diya. Shame on U, U bloody rosgulla, gand-ungli. During playing times tu bhagta tha se. Abhi Bhaag Indian public se, saale gaand-me-ungli.\n",
      "--------------------\n"
     ]
    }
   ],
   "source": [
    "for i in range(0,10):\n",
    "    print(tweets_df['cleaned_tweets'][i])\n",
    "    print('--'*10)"
   ]
  },
  {
   "cell_type": "markdown",
   "id": "10f5b2d3",
   "metadata": {},
   "source": [
    "## 2.4. Create the sentiment scores in a new column"
   ]
  },
  {
   "cell_type": "code",
   "execution_count": 1,
   "id": "cb2cce85",
   "metadata": {},
   "outputs": [
    {
     "name": "stderr",
     "output_type": "stream",
     "text": [
      "[nltk_data] Downloading package vader_lexicon to\n",
      "[nltk_data]     C:\\Users\\abhin\\AppData\\Roaming\\nltk_data...\n"
     ]
    }
   ],
   "source": [
    "import nltk\n",
    "nltk.download('vader_lexicon')\n",
    "from nltk.sentiment.vader import SentimentIntensityAnalyzer\n",
    "\n",
    "sid = SentimentIntensityAnalyzer()"
   ]
  },
  {
   "cell_type": "code",
   "execution_count": 21,
   "id": "ebb9917f",
   "metadata": {},
   "outputs": [
    {
     "data": {
      "text/html": [
       "<div>\n",
       "<style scoped>\n",
       "    .dataframe tbody tr th:only-of-type {\n",
       "        vertical-align: middle;\n",
       "    }\n",
       "\n",
       "    .dataframe tbody tr th {\n",
       "        vertical-align: top;\n",
       "    }\n",
       "\n",
       "    .dataframe thead th {\n",
       "        text-align: right;\n",
       "    }\n",
       "</style>\n",
       "<table border=\"1\" class=\"dataframe\">\n",
       "  <thead>\n",
       "    <tr style=\"text-align: right;\">\n",
       "      <th></th>\n",
       "      <th>cleaned_tweets</th>\n",
       "      <th>sentiment_scores</th>\n",
       "    </tr>\n",
       "  </thead>\n",
       "  <tbody>\n",
       "    <tr>\n",
       "      <th>0</th>\n",
       "      <td>India's most successful captain is Virat Kohli...</td>\n",
       "      <td>0.8016</td>\n",
       "    </tr>\n",
       "    <tr>\n",
       "      <th>1</th>\n",
       "      <td>His wokeism let him down, we all know how hypo...</td>\n",
       "      <td>-0.5859</td>\n",
       "    </tr>\n",
       "    <tr>\n",
       "      <th>2</th>\n",
       "      <td>With the same batting avg. for last 2 years, &amp;...</td>\n",
       "      <td>-0.8216</td>\n",
       "    </tr>\n",
       "    <tr>\n",
       "      <th>3</th>\n",
       "      <td>Happy retirement bhai🙏🏻hoping to see a video A...</td>\n",
       "      <td>0.7783</td>\n",
       "    </tr>\n",
       "    <tr>\n",
       "      <th>4</th>\n",
       "      <td>Saale, Kalkatta ki rosgulla, Bonguly, GANDUNGL...</td>\n",
       "      <td>-0.6369</td>\n",
       "    </tr>\n",
       "  </tbody>\n",
       "</table>\n",
       "</div>"
      ],
      "text/plain": [
       "                                      cleaned_tweets  sentiment_scores\n",
       "0  India's most successful captain is Virat Kohli...            0.8016\n",
       "1  His wokeism let him down, we all know how hypo...           -0.5859\n",
       "2  With the same batting avg. for last 2 years, &...           -0.8216\n",
       "3  Happy retirement bhai🙏🏻hoping to see a video A...            0.7783\n",
       "4  Saale, Kalkatta ki rosgulla, Bonguly, GANDUNGL...           -0.6369"
      ]
     },
     "execution_count": 21,
     "metadata": {},
     "output_type": "execute_result"
    }
   ],
   "source": [
    "tweets_df['sentiment_scores'] = tweets_df['cleaned_tweets'].apply(lambda x: sid.polarity_scores(x)['compound'])\n",
    "tweets_df[['cleaned_tweets', 'sentiment_scores']].head(5)"
   ]
  },
  {
   "cell_type": "code",
   "execution_count": null,
   "id": "20fa71c0",
   "metadata": {},
   "outputs": [],
   "source": []
  }
 ],
 "metadata": {
  "kernelspec": {
   "display_name": "Python 3 (ipykernel)",
   "language": "python",
   "name": "python3"
  },
  "language_info": {
   "codemirror_mode": {
    "name": "ipython",
    "version": 3
   },
   "file_extension": ".py",
   "mimetype": "text/x-python",
   "name": "python",
   "nbconvert_exporter": "python",
   "pygments_lexer": "ipython3",
   "version": "3.9.7"
  }
 },
 "nbformat": 4,
 "nbformat_minor": 5
}
